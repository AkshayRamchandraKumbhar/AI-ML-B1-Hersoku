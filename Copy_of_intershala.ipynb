{
  "nbformat": 4,
  "nbformat_minor": 0,
  "metadata": {
    "colab": {
      "name": "Copy of intershala.ipynb",
      "provenance": [],
      "include_colab_link": true
    },
    "kernelspec": {
      "name": "python3",
      "display_name": "Python 3"
    },
    "widgets": {
      "application/vnd.jupyter.widget-state+json": {
        "4a0be184e40448efba50120dca4ff1ee": {
          "model_module": "@jupyter-widgets/controls",
          "model_name": "HBoxModel",
          "state": {
            "_view_name": "HBoxView",
            "_dom_classes": [],
            "_model_name": "HBoxModel",
            "_view_module": "@jupyter-widgets/controls",
            "_model_module_version": "1.5.0",
            "_view_count": null,
            "_view_module_version": "1.5.0",
            "box_style": "",
            "layout": "IPY_MODEL_3b1b95d3a43c47f0969178c8f26e6228",
            "_model_module": "@jupyter-widgets/controls",
            "children": [
              "IPY_MODEL_d74ffe244bed460b909991b9b19d7eef",
              "IPY_MODEL_e95c6d45d5824517ade10352bdc000cf"
            ]
          }
        },
        "3b1b95d3a43c47f0969178c8f26e6228": {
          "model_module": "@jupyter-widgets/base",
          "model_name": "LayoutModel",
          "state": {
            "_view_name": "LayoutView",
            "grid_template_rows": null,
            "right": null,
            "justify_content": null,
            "_view_module": "@jupyter-widgets/base",
            "overflow": null,
            "_model_module_version": "1.2.0",
            "_view_count": null,
            "flex_flow": null,
            "width": null,
            "min_width": null,
            "border": null,
            "align_items": null,
            "bottom": null,
            "_model_module": "@jupyter-widgets/base",
            "top": null,
            "grid_column": null,
            "overflow_y": null,
            "overflow_x": null,
            "grid_auto_flow": null,
            "grid_area": null,
            "grid_template_columns": null,
            "flex": null,
            "_model_name": "LayoutModel",
            "justify_items": null,
            "grid_row": null,
            "max_height": null,
            "align_content": null,
            "visibility": null,
            "align_self": null,
            "height": null,
            "min_height": null,
            "padding": null,
            "grid_auto_rows": null,
            "grid_gap": null,
            "max_width": null,
            "order": null,
            "_view_module_version": "1.2.0",
            "grid_template_areas": null,
            "object_position": null,
            "object_fit": null,
            "grid_auto_columns": null,
            "margin": null,
            "display": null,
            "left": null
          }
        },
        "d74ffe244bed460b909991b9b19d7eef": {
          "model_module": "@jupyter-widgets/controls",
          "model_name": "FloatProgressModel",
          "state": {
            "_view_name": "ProgressView",
            "style": "IPY_MODEL_74a6ac830cad43edad11b50b7d93a0ab",
            "_dom_classes": [],
            "description": "100%",
            "_model_name": "FloatProgressModel",
            "bar_style": "success",
            "max": 14212972,
            "_view_module": "@jupyter-widgets/controls",
            "_model_module_version": "1.5.0",
            "value": 14212972,
            "_view_count": null,
            "_view_module_version": "1.5.0",
            "orientation": "horizontal",
            "min": 0,
            "description_tooltip": null,
            "_model_module": "@jupyter-widgets/controls",
            "layout": "IPY_MODEL_66d74e5ec7d94b52a2b466850e11505e"
          }
        },
        "e95c6d45d5824517ade10352bdc000cf": {
          "model_module": "@jupyter-widgets/controls",
          "model_name": "HTMLModel",
          "state": {
            "_view_name": "HTMLView",
            "style": "IPY_MODEL_3bc1550e7c934ad98ce1db25c55f3e59",
            "_dom_classes": [],
            "description": "",
            "_model_name": "HTMLModel",
            "placeholder": "​",
            "_view_module": "@jupyter-widgets/controls",
            "_model_module_version": "1.5.0",
            "value": " 13.6M/13.6M [00:00&lt;00:00, 47.0MB/s]",
            "_view_count": null,
            "_view_module_version": "1.5.0",
            "description_tooltip": null,
            "_model_module": "@jupyter-widgets/controls",
            "layout": "IPY_MODEL_cd9b3b5c265845eab2d64a07c0dbc51d"
          }
        },
        "74a6ac830cad43edad11b50b7d93a0ab": {
          "model_module": "@jupyter-widgets/controls",
          "model_name": "ProgressStyleModel",
          "state": {
            "_view_name": "StyleView",
            "_model_name": "ProgressStyleModel",
            "description_width": "initial",
            "_view_module": "@jupyter-widgets/base",
            "_model_module_version": "1.5.0",
            "_view_count": null,
            "_view_module_version": "1.2.0",
            "bar_color": null,
            "_model_module": "@jupyter-widgets/controls"
          }
        },
        "66d74e5ec7d94b52a2b466850e11505e": {
          "model_module": "@jupyter-widgets/base",
          "model_name": "LayoutModel",
          "state": {
            "_view_name": "LayoutView",
            "grid_template_rows": null,
            "right": null,
            "justify_content": null,
            "_view_module": "@jupyter-widgets/base",
            "overflow": null,
            "_model_module_version": "1.2.0",
            "_view_count": null,
            "flex_flow": null,
            "width": null,
            "min_width": null,
            "border": null,
            "align_items": null,
            "bottom": null,
            "_model_module": "@jupyter-widgets/base",
            "top": null,
            "grid_column": null,
            "overflow_y": null,
            "overflow_x": null,
            "grid_auto_flow": null,
            "grid_area": null,
            "grid_template_columns": null,
            "flex": null,
            "_model_name": "LayoutModel",
            "justify_items": null,
            "grid_row": null,
            "max_height": null,
            "align_content": null,
            "visibility": null,
            "align_self": null,
            "height": null,
            "min_height": null,
            "padding": null,
            "grid_auto_rows": null,
            "grid_gap": null,
            "max_width": null,
            "order": null,
            "_view_module_version": "1.2.0",
            "grid_template_areas": null,
            "object_position": null,
            "object_fit": null,
            "grid_auto_columns": null,
            "margin": null,
            "display": null,
            "left": null
          }
        },
        "3bc1550e7c934ad98ce1db25c55f3e59": {
          "model_module": "@jupyter-widgets/controls",
          "model_name": "DescriptionStyleModel",
          "state": {
            "_view_name": "StyleView",
            "_model_name": "DescriptionStyleModel",
            "description_width": "",
            "_view_module": "@jupyter-widgets/base",
            "_model_module_version": "1.5.0",
            "_view_count": null,
            "_view_module_version": "1.2.0",
            "_model_module": "@jupyter-widgets/controls"
          }
        },
        "cd9b3b5c265845eab2d64a07c0dbc51d": {
          "model_module": "@jupyter-widgets/base",
          "model_name": "LayoutModel",
          "state": {
            "_view_name": "LayoutView",
            "grid_template_rows": null,
            "right": null,
            "justify_content": null,
            "_view_module": "@jupyter-widgets/base",
            "overflow": null,
            "_model_module_version": "1.2.0",
            "_view_count": null,
            "flex_flow": null,
            "width": null,
            "min_width": null,
            "border": null,
            "align_items": null,
            "bottom": null,
            "_model_module": "@jupyter-widgets/base",
            "top": null,
            "grid_column": null,
            "overflow_y": null,
            "overflow_x": null,
            "grid_auto_flow": null,
            "grid_area": null,
            "grid_template_columns": null,
            "flex": null,
            "_model_name": "LayoutModel",
            "justify_items": null,
            "grid_row": null,
            "max_height": null,
            "align_content": null,
            "visibility": null,
            "align_self": null,
            "height": null,
            "min_height": null,
            "padding": null,
            "grid_auto_rows": null,
            "grid_gap": null,
            "max_width": null,
            "order": null,
            "_view_module_version": "1.2.0",
            "grid_template_areas": null,
            "object_position": null,
            "object_fit": null,
            "grid_auto_columns": null,
            "margin": null,
            "display": null,
            "left": null
          }
        }
      }
    }
  },
  "cells": [
    {
      "cell_type": "markdown",
      "metadata": {
        "id": "view-in-github",
        "colab_type": "text"
      },
      "source": [
        "<a href=\"https://colab.research.google.com/github/AkshayRamchandraKumbhar/AI-ML-B1-Hersoku/blob/main/Copy_of_intershala.ipynb\" target=\"_parent\"><img src=\"https://colab.research.google.com/assets/colab-badge.svg\" alt=\"Open In Colab\"/></a>"
      ]
    },
    {
      "cell_type": "code",
      "metadata": {
        "id": "vWQs1xRvvoxa"
      },
      "source": [
        "# import pytorch lib"
      ],
      "execution_count": null,
      "outputs": []
    },
    {
      "cell_type": "markdown",
      "metadata": {
        "id": "rfHWKyRnwVJq"
      },
      "source": [
        "**pytorch_vision_mobilenet_v2**"
      ]
    },
    {
      "cell_type": "markdown",
      "metadata": {
        "id": "CSBrUNjawHtJ"
      },
      "source": [
        ""
      ]
    },
    {
      "cell_type": "markdown",
      "metadata": {
        "id": "_2QRWsjLvz58"
      },
      "source": [
        "**link : image https://upload.wikimedia.org/wikipedia/commons/4/47/American_Eskimo_Dog.jpg**"
      ]
    },
    {
      "cell_type": "code",
      "metadata": {
        "colab": {
          "base_uri": "https://localhost:8080/",
          "height": 1000,
          "referenced_widgets": [
            "4a0be184e40448efba50120dca4ff1ee",
            "3b1b95d3a43c47f0969178c8f26e6228",
            "d74ffe244bed460b909991b9b19d7eef",
            "e95c6d45d5824517ade10352bdc000cf",
            "74a6ac830cad43edad11b50b7d93a0ab",
            "66d74e5ec7d94b52a2b466850e11505e",
            "3bc1550e7c934ad98ce1db25c55f3e59",
            "cd9b3b5c265845eab2d64a07c0dbc51d"
          ]
        },
        "id": "GZz-ArZMwFIv",
        "outputId": "0edb2594-f76e-4055-ea66-b91329c559b5"
      },
      "source": [
        "import torch\n",
        "model = torch.hub.load('pytorch/vision:v0.6.0', 'mobilenet_v2', pretrained=True)\n",
        "model.eval()"
      ],
      "execution_count": null,
      "outputs": [
        {
          "output_type": "stream",
          "text": [
            "Downloading: \"https://github.com/pytorch/vision/archive/v0.6.0.zip\" to /root/.cache/torch/hub/v0.6.0.zip\n",
            "Downloading: \"https://download.pytorch.org/models/mobilenet_v2-b0353104.pth\" to /root/.cache/torch/hub/checkpoints/mobilenet_v2-b0353104.pth\n"
          ],
          "name": "stderr"
        },
        {
          "output_type": "display_data",
          "data": {
            "application/vnd.jupyter.widget-view+json": {
              "model_id": "4a0be184e40448efba50120dca4ff1ee",
              "version_minor": 0,
              "version_major": 2
            },
            "text/plain": [
              "HBox(children=(FloatProgress(value=0.0, max=14212972.0), HTML(value='')))"
            ]
          },
          "metadata": {
            "tags": []
          }
        },
        {
          "output_type": "stream",
          "text": [
            "\n"
          ],
          "name": "stdout"
        },
        {
          "output_type": "execute_result",
          "data": {
            "text/plain": [
              "MobileNetV2(\n",
              "  (features): Sequential(\n",
              "    (0): ConvBNReLU(\n",
              "      (0): Conv2d(3, 32, kernel_size=(3, 3), stride=(2, 2), padding=(1, 1), bias=False)\n",
              "      (1): BatchNorm2d(32, eps=1e-05, momentum=0.1, affine=True, track_running_stats=True)\n",
              "      (2): ReLU6(inplace=True)\n",
              "    )\n",
              "    (1): InvertedResidual(\n",
              "      (conv): Sequential(\n",
              "        (0): ConvBNReLU(\n",
              "          (0): Conv2d(32, 32, kernel_size=(3, 3), stride=(1, 1), padding=(1, 1), groups=32, bias=False)\n",
              "          (1): BatchNorm2d(32, eps=1e-05, momentum=0.1, affine=True, track_running_stats=True)\n",
              "          (2): ReLU6(inplace=True)\n",
              "        )\n",
              "        (1): Conv2d(32, 16, kernel_size=(1, 1), stride=(1, 1), bias=False)\n",
              "        (2): BatchNorm2d(16, eps=1e-05, momentum=0.1, affine=True, track_running_stats=True)\n",
              "      )\n",
              "    )\n",
              "    (2): InvertedResidual(\n",
              "      (conv): Sequential(\n",
              "        (0): ConvBNReLU(\n",
              "          (0): Conv2d(16, 96, kernel_size=(1, 1), stride=(1, 1), bias=False)\n",
              "          (1): BatchNorm2d(96, eps=1e-05, momentum=0.1, affine=True, track_running_stats=True)\n",
              "          (2): ReLU6(inplace=True)\n",
              "        )\n",
              "        (1): ConvBNReLU(\n",
              "          (0): Conv2d(96, 96, kernel_size=(3, 3), stride=(2, 2), padding=(1, 1), groups=96, bias=False)\n",
              "          (1): BatchNorm2d(96, eps=1e-05, momentum=0.1, affine=True, track_running_stats=True)\n",
              "          (2): ReLU6(inplace=True)\n",
              "        )\n",
              "        (2): Conv2d(96, 24, kernel_size=(1, 1), stride=(1, 1), bias=False)\n",
              "        (3): BatchNorm2d(24, eps=1e-05, momentum=0.1, affine=True, track_running_stats=True)\n",
              "      )\n",
              "    )\n",
              "    (3): InvertedResidual(\n",
              "      (conv): Sequential(\n",
              "        (0): ConvBNReLU(\n",
              "          (0): Conv2d(24, 144, kernel_size=(1, 1), stride=(1, 1), bias=False)\n",
              "          (1): BatchNorm2d(144, eps=1e-05, momentum=0.1, affine=True, track_running_stats=True)\n",
              "          (2): ReLU6(inplace=True)\n",
              "        )\n",
              "        (1): ConvBNReLU(\n",
              "          (0): Conv2d(144, 144, kernel_size=(3, 3), stride=(1, 1), padding=(1, 1), groups=144, bias=False)\n",
              "          (1): BatchNorm2d(144, eps=1e-05, momentum=0.1, affine=True, track_running_stats=True)\n",
              "          (2): ReLU6(inplace=True)\n",
              "        )\n",
              "        (2): Conv2d(144, 24, kernel_size=(1, 1), stride=(1, 1), bias=False)\n",
              "        (3): BatchNorm2d(24, eps=1e-05, momentum=0.1, affine=True, track_running_stats=True)\n",
              "      )\n",
              "    )\n",
              "    (4): InvertedResidual(\n",
              "      (conv): Sequential(\n",
              "        (0): ConvBNReLU(\n",
              "          (0): Conv2d(24, 144, kernel_size=(1, 1), stride=(1, 1), bias=False)\n",
              "          (1): BatchNorm2d(144, eps=1e-05, momentum=0.1, affine=True, track_running_stats=True)\n",
              "          (2): ReLU6(inplace=True)\n",
              "        )\n",
              "        (1): ConvBNReLU(\n",
              "          (0): Conv2d(144, 144, kernel_size=(3, 3), stride=(2, 2), padding=(1, 1), groups=144, bias=False)\n",
              "          (1): BatchNorm2d(144, eps=1e-05, momentum=0.1, affine=True, track_running_stats=True)\n",
              "          (2): ReLU6(inplace=True)\n",
              "        )\n",
              "        (2): Conv2d(144, 32, kernel_size=(1, 1), stride=(1, 1), bias=False)\n",
              "        (3): BatchNorm2d(32, eps=1e-05, momentum=0.1, affine=True, track_running_stats=True)\n",
              "      )\n",
              "    )\n",
              "    (5): InvertedResidual(\n",
              "      (conv): Sequential(\n",
              "        (0): ConvBNReLU(\n",
              "          (0): Conv2d(32, 192, kernel_size=(1, 1), stride=(1, 1), bias=False)\n",
              "          (1): BatchNorm2d(192, eps=1e-05, momentum=0.1, affine=True, track_running_stats=True)\n",
              "          (2): ReLU6(inplace=True)\n",
              "        )\n",
              "        (1): ConvBNReLU(\n",
              "          (0): Conv2d(192, 192, kernel_size=(3, 3), stride=(1, 1), padding=(1, 1), groups=192, bias=False)\n",
              "          (1): BatchNorm2d(192, eps=1e-05, momentum=0.1, affine=True, track_running_stats=True)\n",
              "          (2): ReLU6(inplace=True)\n",
              "        )\n",
              "        (2): Conv2d(192, 32, kernel_size=(1, 1), stride=(1, 1), bias=False)\n",
              "        (3): BatchNorm2d(32, eps=1e-05, momentum=0.1, affine=True, track_running_stats=True)\n",
              "      )\n",
              "    )\n",
              "    (6): InvertedResidual(\n",
              "      (conv): Sequential(\n",
              "        (0): ConvBNReLU(\n",
              "          (0): Conv2d(32, 192, kernel_size=(1, 1), stride=(1, 1), bias=False)\n",
              "          (1): BatchNorm2d(192, eps=1e-05, momentum=0.1, affine=True, track_running_stats=True)\n",
              "          (2): ReLU6(inplace=True)\n",
              "        )\n",
              "        (1): ConvBNReLU(\n",
              "          (0): Conv2d(192, 192, kernel_size=(3, 3), stride=(1, 1), padding=(1, 1), groups=192, bias=False)\n",
              "          (1): BatchNorm2d(192, eps=1e-05, momentum=0.1, affine=True, track_running_stats=True)\n",
              "          (2): ReLU6(inplace=True)\n",
              "        )\n",
              "        (2): Conv2d(192, 32, kernel_size=(1, 1), stride=(1, 1), bias=False)\n",
              "        (3): BatchNorm2d(32, eps=1e-05, momentum=0.1, affine=True, track_running_stats=True)\n",
              "      )\n",
              "    )\n",
              "    (7): InvertedResidual(\n",
              "      (conv): Sequential(\n",
              "        (0): ConvBNReLU(\n",
              "          (0): Conv2d(32, 192, kernel_size=(1, 1), stride=(1, 1), bias=False)\n",
              "          (1): BatchNorm2d(192, eps=1e-05, momentum=0.1, affine=True, track_running_stats=True)\n",
              "          (2): ReLU6(inplace=True)\n",
              "        )\n",
              "        (1): ConvBNReLU(\n",
              "          (0): Conv2d(192, 192, kernel_size=(3, 3), stride=(2, 2), padding=(1, 1), groups=192, bias=False)\n",
              "          (1): BatchNorm2d(192, eps=1e-05, momentum=0.1, affine=True, track_running_stats=True)\n",
              "          (2): ReLU6(inplace=True)\n",
              "        )\n",
              "        (2): Conv2d(192, 64, kernel_size=(1, 1), stride=(1, 1), bias=False)\n",
              "        (3): BatchNorm2d(64, eps=1e-05, momentum=0.1, affine=True, track_running_stats=True)\n",
              "      )\n",
              "    )\n",
              "    (8): InvertedResidual(\n",
              "      (conv): Sequential(\n",
              "        (0): ConvBNReLU(\n",
              "          (0): Conv2d(64, 384, kernel_size=(1, 1), stride=(1, 1), bias=False)\n",
              "          (1): BatchNorm2d(384, eps=1e-05, momentum=0.1, affine=True, track_running_stats=True)\n",
              "          (2): ReLU6(inplace=True)\n",
              "        )\n",
              "        (1): ConvBNReLU(\n",
              "          (0): Conv2d(384, 384, kernel_size=(3, 3), stride=(1, 1), padding=(1, 1), groups=384, bias=False)\n",
              "          (1): BatchNorm2d(384, eps=1e-05, momentum=0.1, affine=True, track_running_stats=True)\n",
              "          (2): ReLU6(inplace=True)\n",
              "        )\n",
              "        (2): Conv2d(384, 64, kernel_size=(1, 1), stride=(1, 1), bias=False)\n",
              "        (3): BatchNorm2d(64, eps=1e-05, momentum=0.1, affine=True, track_running_stats=True)\n",
              "      )\n",
              "    )\n",
              "    (9): InvertedResidual(\n",
              "      (conv): Sequential(\n",
              "        (0): ConvBNReLU(\n",
              "          (0): Conv2d(64, 384, kernel_size=(1, 1), stride=(1, 1), bias=False)\n",
              "          (1): BatchNorm2d(384, eps=1e-05, momentum=0.1, affine=True, track_running_stats=True)\n",
              "          (2): ReLU6(inplace=True)\n",
              "        )\n",
              "        (1): ConvBNReLU(\n",
              "          (0): Conv2d(384, 384, kernel_size=(3, 3), stride=(1, 1), padding=(1, 1), groups=384, bias=False)\n",
              "          (1): BatchNorm2d(384, eps=1e-05, momentum=0.1, affine=True, track_running_stats=True)\n",
              "          (2): ReLU6(inplace=True)\n",
              "        )\n",
              "        (2): Conv2d(384, 64, kernel_size=(1, 1), stride=(1, 1), bias=False)\n",
              "        (3): BatchNorm2d(64, eps=1e-05, momentum=0.1, affine=True, track_running_stats=True)\n",
              "      )\n",
              "    )\n",
              "    (10): InvertedResidual(\n",
              "      (conv): Sequential(\n",
              "        (0): ConvBNReLU(\n",
              "          (0): Conv2d(64, 384, kernel_size=(1, 1), stride=(1, 1), bias=False)\n",
              "          (1): BatchNorm2d(384, eps=1e-05, momentum=0.1, affine=True, track_running_stats=True)\n",
              "          (2): ReLU6(inplace=True)\n",
              "        )\n",
              "        (1): ConvBNReLU(\n",
              "          (0): Conv2d(384, 384, kernel_size=(3, 3), stride=(1, 1), padding=(1, 1), groups=384, bias=False)\n",
              "          (1): BatchNorm2d(384, eps=1e-05, momentum=0.1, affine=True, track_running_stats=True)\n",
              "          (2): ReLU6(inplace=True)\n",
              "        )\n",
              "        (2): Conv2d(384, 64, kernel_size=(1, 1), stride=(1, 1), bias=False)\n",
              "        (3): BatchNorm2d(64, eps=1e-05, momentum=0.1, affine=True, track_running_stats=True)\n",
              "      )\n",
              "    )\n",
              "    (11): InvertedResidual(\n",
              "      (conv): Sequential(\n",
              "        (0): ConvBNReLU(\n",
              "          (0): Conv2d(64, 384, kernel_size=(1, 1), stride=(1, 1), bias=False)\n",
              "          (1): BatchNorm2d(384, eps=1e-05, momentum=0.1, affine=True, track_running_stats=True)\n",
              "          (2): ReLU6(inplace=True)\n",
              "        )\n",
              "        (1): ConvBNReLU(\n",
              "          (0): Conv2d(384, 384, kernel_size=(3, 3), stride=(1, 1), padding=(1, 1), groups=384, bias=False)\n",
              "          (1): BatchNorm2d(384, eps=1e-05, momentum=0.1, affine=True, track_running_stats=True)\n",
              "          (2): ReLU6(inplace=True)\n",
              "        )\n",
              "        (2): Conv2d(384, 96, kernel_size=(1, 1), stride=(1, 1), bias=False)\n",
              "        (3): BatchNorm2d(96, eps=1e-05, momentum=0.1, affine=True, track_running_stats=True)\n",
              "      )\n",
              "    )\n",
              "    (12): InvertedResidual(\n",
              "      (conv): Sequential(\n",
              "        (0): ConvBNReLU(\n",
              "          (0): Conv2d(96, 576, kernel_size=(1, 1), stride=(1, 1), bias=False)\n",
              "          (1): BatchNorm2d(576, eps=1e-05, momentum=0.1, affine=True, track_running_stats=True)\n",
              "          (2): ReLU6(inplace=True)\n",
              "        )\n",
              "        (1): ConvBNReLU(\n",
              "          (0): Conv2d(576, 576, kernel_size=(3, 3), stride=(1, 1), padding=(1, 1), groups=576, bias=False)\n",
              "          (1): BatchNorm2d(576, eps=1e-05, momentum=0.1, affine=True, track_running_stats=True)\n",
              "          (2): ReLU6(inplace=True)\n",
              "        )\n",
              "        (2): Conv2d(576, 96, kernel_size=(1, 1), stride=(1, 1), bias=False)\n",
              "        (3): BatchNorm2d(96, eps=1e-05, momentum=0.1, affine=True, track_running_stats=True)\n",
              "      )\n",
              "    )\n",
              "    (13): InvertedResidual(\n",
              "      (conv): Sequential(\n",
              "        (0): ConvBNReLU(\n",
              "          (0): Conv2d(96, 576, kernel_size=(1, 1), stride=(1, 1), bias=False)\n",
              "          (1): BatchNorm2d(576, eps=1e-05, momentum=0.1, affine=True, track_running_stats=True)\n",
              "          (2): ReLU6(inplace=True)\n",
              "        )\n",
              "        (1): ConvBNReLU(\n",
              "          (0): Conv2d(576, 576, kernel_size=(3, 3), stride=(1, 1), padding=(1, 1), groups=576, bias=False)\n",
              "          (1): BatchNorm2d(576, eps=1e-05, momentum=0.1, affine=True, track_running_stats=True)\n",
              "          (2): ReLU6(inplace=True)\n",
              "        )\n",
              "        (2): Conv2d(576, 96, kernel_size=(1, 1), stride=(1, 1), bias=False)\n",
              "        (3): BatchNorm2d(96, eps=1e-05, momentum=0.1, affine=True, track_running_stats=True)\n",
              "      )\n",
              "    )\n",
              "    (14): InvertedResidual(\n",
              "      (conv): Sequential(\n",
              "        (0): ConvBNReLU(\n",
              "          (0): Conv2d(96, 576, kernel_size=(1, 1), stride=(1, 1), bias=False)\n",
              "          (1): BatchNorm2d(576, eps=1e-05, momentum=0.1, affine=True, track_running_stats=True)\n",
              "          (2): ReLU6(inplace=True)\n",
              "        )\n",
              "        (1): ConvBNReLU(\n",
              "          (0): Conv2d(576, 576, kernel_size=(3, 3), stride=(2, 2), padding=(1, 1), groups=576, bias=False)\n",
              "          (1): BatchNorm2d(576, eps=1e-05, momentum=0.1, affine=True, track_running_stats=True)\n",
              "          (2): ReLU6(inplace=True)\n",
              "        )\n",
              "        (2): Conv2d(576, 160, kernel_size=(1, 1), stride=(1, 1), bias=False)\n",
              "        (3): BatchNorm2d(160, eps=1e-05, momentum=0.1, affine=True, track_running_stats=True)\n",
              "      )\n",
              "    )\n",
              "    (15): InvertedResidual(\n",
              "      (conv): Sequential(\n",
              "        (0): ConvBNReLU(\n",
              "          (0): Conv2d(160, 960, kernel_size=(1, 1), stride=(1, 1), bias=False)\n",
              "          (1): BatchNorm2d(960, eps=1e-05, momentum=0.1, affine=True, track_running_stats=True)\n",
              "          (2): ReLU6(inplace=True)\n",
              "        )\n",
              "        (1): ConvBNReLU(\n",
              "          (0): Conv2d(960, 960, kernel_size=(3, 3), stride=(1, 1), padding=(1, 1), groups=960, bias=False)\n",
              "          (1): BatchNorm2d(960, eps=1e-05, momentum=0.1, affine=True, track_running_stats=True)\n",
              "          (2): ReLU6(inplace=True)\n",
              "        )\n",
              "        (2): Conv2d(960, 160, kernel_size=(1, 1), stride=(1, 1), bias=False)\n",
              "        (3): BatchNorm2d(160, eps=1e-05, momentum=0.1, affine=True, track_running_stats=True)\n",
              "      )\n",
              "    )\n",
              "    (16): InvertedResidual(\n",
              "      (conv): Sequential(\n",
              "        (0): ConvBNReLU(\n",
              "          (0): Conv2d(160, 960, kernel_size=(1, 1), stride=(1, 1), bias=False)\n",
              "          (1): BatchNorm2d(960, eps=1e-05, momentum=0.1, affine=True, track_running_stats=True)\n",
              "          (2): ReLU6(inplace=True)\n",
              "        )\n",
              "        (1): ConvBNReLU(\n",
              "          (0): Conv2d(960, 960, kernel_size=(3, 3), stride=(1, 1), padding=(1, 1), groups=960, bias=False)\n",
              "          (1): BatchNorm2d(960, eps=1e-05, momentum=0.1, affine=True, track_running_stats=True)\n",
              "          (2): ReLU6(inplace=True)\n",
              "        )\n",
              "        (2): Conv2d(960, 160, kernel_size=(1, 1), stride=(1, 1), bias=False)\n",
              "        (3): BatchNorm2d(160, eps=1e-05, momentum=0.1, affine=True, track_running_stats=True)\n",
              "      )\n",
              "    )\n",
              "    (17): InvertedResidual(\n",
              "      (conv): Sequential(\n",
              "        (0): ConvBNReLU(\n",
              "          (0): Conv2d(160, 960, kernel_size=(1, 1), stride=(1, 1), bias=False)\n",
              "          (1): BatchNorm2d(960, eps=1e-05, momentum=0.1, affine=True, track_running_stats=True)\n",
              "          (2): ReLU6(inplace=True)\n",
              "        )\n",
              "        (1): ConvBNReLU(\n",
              "          (0): Conv2d(960, 960, kernel_size=(3, 3), stride=(1, 1), padding=(1, 1), groups=960, bias=False)\n",
              "          (1): BatchNorm2d(960, eps=1e-05, momentum=0.1, affine=True, track_running_stats=True)\n",
              "          (2): ReLU6(inplace=True)\n",
              "        )\n",
              "        (2): Conv2d(960, 320, kernel_size=(1, 1), stride=(1, 1), bias=False)\n",
              "        (3): BatchNorm2d(320, eps=1e-05, momentum=0.1, affine=True, track_running_stats=True)\n",
              "      )\n",
              "    )\n",
              "    (18): ConvBNReLU(\n",
              "      (0): Conv2d(320, 1280, kernel_size=(1, 1), stride=(1, 1), bias=False)\n",
              "      (1): BatchNorm2d(1280, eps=1e-05, momentum=0.1, affine=True, track_running_stats=True)\n",
              "      (2): ReLU6(inplace=True)\n",
              "    )\n",
              "  )\n",
              "  (classifier): Sequential(\n",
              "    (0): Dropout(p=0.2, inplace=False)\n",
              "    (1): Linear(in_features=1280, out_features=1000, bias=True)\n",
              "  )\n",
              ")"
            ]
          },
          "metadata": {
            "tags": []
          },
          "execution_count": 1
        }
      ]
    },
    {
      "cell_type": "code",
      "metadata": {
        "id": "v0dYLa0ixEHZ"
      },
      "source": [
        "# Download an example image from the pytorch website\n",
        "import urllib\n",
        "url, filename = (\"https://github.com/pytorch/hub/raw/master/images/dog.jpg\", \"dog.jpg\")\n",
        "try: urllib.URLopener().retrieve(url, filename)\n",
        "except: urllib.request.urlretrieve(url, filename)"
      ],
      "execution_count": null,
      "outputs": []
    },
    {
      "cell_type": "markdown",
      "metadata": {
        "id": "47iqJtbGvzDu"
      },
      "source": [
        ""
      ]
    },
    {
      "cell_type": "code",
      "metadata": {
        "colab": {
          "base_uri": "https://localhost:8080/"
        },
        "id": "bHqO66sPxAnU",
        "outputId": "eabb53b2-a986-45c4-eabe-97737dbdb85c"
      },
      "source": [
        "print(filename[1])"
      ],
      "execution_count": null,
      "outputs": [
        {
          "output_type": "stream",
          "text": [
            "o\n"
          ],
          "name": "stdout"
        }
      ]
    },
    {
      "cell_type": "code",
      "metadata": {
        "colab": {
          "base_uri": "https://localhost:8080/",
          "height": 35
        },
        "id": "EfAcS_P4xqq3",
        "outputId": "5eb32325-5960-4c18-d545-ed37fd0cf096"
      },
      "source": [
        "filename"
      ],
      "execution_count": null,
      "outputs": [
        {
          "output_type": "execute_result",
          "data": {
            "application/vnd.google.colaboratory.intrinsic+json": {
              "type": "string"
            },
            "text/plain": [
              "'dog.jpg'"
            ]
          },
          "metadata": {
            "tags": []
          },
          "execution_count": 10
        }
      ]
    },
    {
      "cell_type": "code",
      "metadata": {
        "id": "mwcfAT-IyHgH"
      },
      "source": [
        ""
      ],
      "execution_count": null,
      "outputs": []
    },
    {
      "cell_type": "markdown",
      "metadata": {
        "id": "AnZ1GuR-yfN3"
      },
      "source": [
        "**observation**\n",
        "if image is color:3D H*W*C\n",
        "H=height\n",
        "W=Weight\n",
        "C=Colour(RGB)\n",
        "then we use 3D filtre\n",
        "\n",
        "link: https://upload.wikimedia.org/wikipedia/commons/4/47/American_Eskimo_Dog.jpg\n",
        "if is 3d Image\n",
        "\n"
      ]
    },
    {
      "cell_type": "code",
      "metadata": {
        "id": "5cv0saJqyMfN"
      },
      "source": [
        ""
      ],
      "execution_count": null,
      "outputs": []
    },
    {
      "cell_type": "code",
      "metadata": {
        "id": "-B7jJZdDwFU9"
      },
      "source": [
        "# sample execution (requires torchvision)\n",
        "from PIL import Image\n",
        "from torchvision import transforms\n",
        "input_image = Image.open(filename)\n",
        "preprocess = transforms.Compose([\n",
        "    transforms.Resize(256),\n",
        "    transforms.CenterCrop(224),\n",
        "    transforms.ToTensor(),\n",
        "    transforms.Normalize(mean=[0.485, 0.456, 0.406], std=[0.229, 0.224, 0.225]),\n",
        "])\n",
        "input_tensor = preprocess(input_image)\n",
        "input_batch = input_tensor.unsqueeze(0) # create a mini-batch as expected by the model\n"
      ],
      "execution_count": null,
      "outputs": []
    },
    {
      "cell_type": "code",
      "metadata": {
        "id": "5A22O3YywFYc"
      },
      "source": [
        ""
      ],
      "execution_count": null,
      "outputs": []
    },
    {
      "cell_type": "code",
      "metadata": {
        "id": "G-CrXuWuzlbx"
      },
      "source": [
        ""
      ],
      "execution_count": null,
      "outputs": []
    },
    {
      "cell_type": "code",
      "metadata": {
        "id": "BDnCq0QFzlfR"
      },
      "source": [
        "# move the input and model to GPU for speed if available\n",
        "if torch.cuda.is_available():\n",
        "    input_batch = input_batch.to('cuda')\n",
        "    model.to('cuda')\n",
        "\n",
        "with torch.no_grad():\n",
        "    output = model(input_batch)\n",
        "# Tensor of shape 1000, with confidence scores over Imagenet's 1000 classes\n",
        "print(output[0])\n",
        "\n"
      ],
      "execution_count": null,
      "outputs": []
    },
    {
      "cell_type": "code",
      "metadata": {
        "id": "kniaW0MazxSI"
      },
      "source": [
        ""
      ],
      "execution_count": null,
      "outputs": []
    },
    {
      "cell_type": "markdown",
      "metadata": {
        "id": "EA14CzMXz7u3"
      },
      "source": [
        "**observation**\n",
        "using softwax activation function"
      ]
    },
    {
      "cell_type": "markdown",
      "metadata": {
        "id": "XyC9mzd1z23X"
      },
      "source": [
        ""
      ]
    },
    {
      "cell_type": "code",
      "metadata": {
        "colab": {
          "base_uri": "https://localhost:8080/"
        },
        "id": "g50mGAgSzxj8",
        "outputId": "2f853b86-e57f-4d69-fdab-32e768809150"
      },
      "source": [
        "# The output has unnormalized scores. To get probabilities, you can run a softmax on it.\n",
        "print(torch.nn.functional.softmax(output[0], dim=0))"
      ],
      "execution_count": null,
      "outputs": [
        {
          "output_type": "stream",
          "text": [
            "tensor([3.9432e-06, 8.5398e-08, 5.1760e-08, 2.4907e-08, 4.4774e-08, 1.2818e-06,\n",
            "        9.7240e-08, 1.9409e-05, 2.8588e-04, 1.3284e-07, 5.6362e-10, 1.6938e-08,\n",
            "        1.6867e-10, 5.6221e-09, 1.7157e-09, 4.5706e-09, 6.8331e-08, 3.3831e-07,\n",
            "        1.3440e-07, 4.5330e-09, 1.7967e-08, 3.7139e-08, 4.2395e-08, 1.3168e-07,\n",
            "        1.8854e-08, 1.1656e-07, 1.4577e-07, 7.3130e-07, 9.6811e-08, 2.3665e-06,\n",
            "        6.3863e-07, 2.5867e-07, 3.5951e-07, 1.0593e-08, 1.0324e-07, 2.6695e-08,\n",
            "        2.7501e-07, 4.4179e-08, 3.4552e-07, 1.7424e-06, 1.3845e-07, 3.4300e-08,\n",
            "        2.1779e-08, 5.1287e-08, 3.1052e-07, 1.3701e-07, 1.1088e-06, 6.2706e-08,\n",
            "        2.5006e-07, 4.4388e-07, 7.8978e-07, 8.6757e-08, 2.2200e-07, 1.6037e-07,\n",
            "        2.8245e-07, 2.5964e-08, 7.0061e-08, 3.1653e-08, 2.6324e-07, 9.0184e-08,\n",
            "        1.8563e-06, 7.2130e-09, 1.1052e-07, 5.0733e-09, 1.8347e-08, 8.7891e-09,\n",
            "        5.6629e-07, 6.6023e-08, 2.2965e-07, 7.0927e-09, 9.9400e-09, 1.8749e-07,\n",
            "        5.7097e-08, 1.3817e-08, 4.1344e-08, 1.9071e-08, 2.0919e-08, 3.3230e-08,\n",
            "        3.4339e-07, 1.7796e-06, 7.9357e-08, 2.4133e-07, 8.9070e-07, 1.4011e-06,\n",
            "        9.7473e-07, 5.6951e-08, 2.1037e-07, 1.3576e-07, 2.5472e-08, 6.6207e-06,\n",
            "        2.2114e-08, 9.5690e-09, 2.9609e-09, 3.2859e-08, 6.8756e-09, 1.5411e-09,\n",
            "        1.1226e-07, 1.7188e-08, 2.9081e-09, 5.5229e-07, 9.2050e-07, 1.0636e-08,\n",
            "        2.6386e-07, 1.0575e-08, 2.0220e-03, 3.9280e-07, 2.3327e-06, 1.8638e-08,\n",
            "        1.3075e-07, 6.2214e-09, 7.2416e-08, 5.6197e-09, 3.5750e-08, 2.9889e-07,\n",
            "        9.3501e-07, 1.5889e-07, 6.6013e-08, 2.4435e-08, 5.1575e-07, 4.6447e-07,\n",
            "        3.3275e-09, 3.3895e-07, 5.1870e-07, 4.9684e-07, 1.3974e-06, 1.1383e-08,\n",
            "        4.9683e-08, 1.5698e-07, 1.2508e-08, 1.7556e-07, 1.0642e-08, 3.5180e-08,\n",
            "        1.0886e-06, 3.8115e-09, 4.0408e-07, 1.0980e-08, 2.9602e-08, 8.4727e-09,\n",
            "        3.0664e-08, 2.3852e-10, 8.6299e-10, 1.1379e-08, 4.0188e-09, 2.5185e-08,\n",
            "        1.5032e-07, 1.5413e-07, 7.3236e-07, 5.5319e-08, 4.9083e-08, 9.0621e-08,\n",
            "        4.4039e-08, 2.2618e-04, 2.7128e-04, 2.9585e-05, 1.5561e-04, 1.9554e-06,\n",
            "        6.7419e-07, 1.4839e-03, 2.3392e-06, 4.7844e-07, 5.0102e-07, 2.2954e-07,\n",
            "        7.9801e-07, 1.0301e-07, 4.9273e-08, 1.2709e-08, 2.5387e-07, 5.1061e-08,\n",
            "        5.6925e-07, 4.8191e-05, 1.4584e-05, 5.1977e-07, 1.0219e-07, 7.2828e-05,\n",
            "        1.6818e-04, 2.2783e-06, 6.2654e-08, 5.4267e-06, 4.0539e-08, 1.7667e-06,\n",
            "        3.3434e-06, 2.9834e-08, 1.7682e-06, 6.4480e-07, 6.0646e-06, 3.7864e-05,\n",
            "        1.3578e-04, 2.6200e-07, 1.3857e-05, 3.6825e-07, 5.0495e-06, 1.2702e-07,\n",
            "        1.1793e-04, 4.4071e-05, 6.3333e-07, 1.5263e-06, 4.2686e-07, 1.4787e-06,\n",
            "        5.1579e-07, 3.2941e-04, 5.7060e-06, 7.8861e-07, 3.4724e-07, 4.8504e-03,\n",
            "        2.4977e-06, 1.8096e-06, 5.9082e-07, 4.6619e-05, 4.3138e-06, 6.0363e-07,\n",
            "        4.3455e-08, 8.8239e-07, 9.8035e-06, 2.8080e-07, 1.3212e-07, 8.0218e-06,\n",
            "        3.4595e-06, 3.7991e-06, 1.0454e-06, 2.6164e-06, 3.3942e-06, 2.1944e-07,\n",
            "        6.5653e-04, 3.9582e-03, 1.4537e-03, 5.1072e-06, 2.0670e-05, 1.5028e-04,\n",
            "        2.1811e-05, 3.3795e-04, 8.0800e-03, 1.0798e-02, 6.6662e-03, 5.2841e-06,\n",
            "        2.9246e-07, 8.0211e-05, 8.6106e-07, 2.2683e-06, 1.7506e-06, 1.7107e-05,\n",
            "        6.1678e-06, 2.1450e-06, 2.1465e-07, 3.1199e-08, 1.1563e-06, 2.6964e-07,\n",
            "        3.2196e-07, 1.2697e-05, 7.7165e-03, 3.9110e-03, 5.0790e-03, 1.9735e-06,\n",
            "        5.4127e-07, 6.9190e-06, 1.1672e-07, 1.4783e-06, 9.2845e-05, 9.8867e-03,\n",
            "        8.3030e-01, 6.9888e-02, 1.9524e-04, 1.2964e-02, 3.3976e-07, 1.9302e-03,\n",
            "        1.9643e-04, 9.5868e-07, 7.3612e-07, 3.8653e-06, 2.7651e-07, 5.8987e-05,\n",
            "        3.9501e-03, 2.6796e-06, 4.8325e-06, 4.8105e-05, 1.8579e-05, 1.9663e-07,\n",
            "        1.1442e-06, 4.2057e-05, 8.4457e-06, 4.9811e-03, 1.4540e-05, 2.6267e-05,\n",
            "        2.0979e-05, 5.4742e-04, 2.4036e-05, 3.6672e-05, 3.5777e-07, 2.4065e-05,\n",
            "        5.6698e-07, 1.9878e-06, 6.2310e-08, 1.4355e-07, 2.0988e-06, 1.1262e-07,\n",
            "        1.0031e-07, 1.2849e-07, 5.3104e-07, 3.5308e-08, 4.1689e-07, 2.2699e-07,\n",
            "        2.2900e-09, 1.2952e-08, 4.7359e-08, 8.9996e-08, 1.1326e-08, 9.8554e-09,\n",
            "        2.1910e-07, 1.0627e-07, 1.5832e-09, 2.7458e-08, 2.3348e-07, 3.2088e-07,\n",
            "        2.3553e-07, 5.0270e-07, 1.7378e-07, 1.7823e-08, 1.3587e-08, 6.6044e-08,\n",
            "        9.0809e-08, 1.3298e-09, 2.2759e-09, 9.0891e-09, 1.2525e-08, 7.6370e-09,\n",
            "        2.6513e-08, 1.7030e-07, 3.2988e-08, 7.1918e-08, 4.6442e-08, 2.5944e-07,\n",
            "        1.6392e-05, 2.5645e-04, 2.4833e-03, 7.6799e-05, 3.0090e-06, 5.1825e-05,\n",
            "        1.1265e-06, 4.7462e-07, 1.4060e-05, 4.3670e-07, 4.1302e-08, 5.4400e-06,\n",
            "        2.8962e-07, 1.3935e-08, 1.3944e-08, 5.9296e-07, 1.2218e-07, 3.5634e-08,\n",
            "        5.8646e-06, 4.4152e-08, 1.4776e-07, 3.2789e-09, 1.7723e-08, 3.1799e-07,\n",
            "        1.1685e-08, 1.0588e-04, 1.5348e-05, 1.3640e-06, 2.0940e-05, 3.0651e-05,\n",
            "        2.4482e-07, 9.4564e-06, 3.7124e-07, 1.0868e-06, 8.8361e-08, 6.2655e-08,\n",
            "        2.5217e-08, 1.8470e-08, 1.9936e-07, 1.7811e-08, 3.4516e-07, 1.7000e-06,\n",
            "        1.9770e-07, 2.0719e-06, 1.2514e-06, 6.2263e-08, 5.9024e-09, 4.7301e-06,\n",
            "        2.4375e-07, 1.9945e-07, 2.2064e-06, 3.2971e-07, 3.2204e-07, 1.2728e-06,\n",
            "        1.7046e-06, 4.6026e-09, 8.2546e-10, 1.0181e-06, 1.2746e-07, 4.5022e-07,\n",
            "        6.2792e-08, 7.0070e-07, 1.3727e-08, 6.5961e-08, 7.4989e-08, 1.8120e-06,\n",
            "        1.1253e-08, 2.4808e-08, 1.7414e-07, 6.9313e-08, 2.4229e-08, 6.0354e-07,\n",
            "        2.7061e-06, 4.5430e-08, 1.3682e-07, 1.7621e-07, 8.3577e-09, 4.9750e-07,\n",
            "        2.0484e-06, 5.1916e-07, 1.5261e-08, 1.3860e-06, 1.6236e-05, 9.2399e-07,\n",
            "        1.1459e-07, 3.7970e-07, 1.4329e-08, 1.8873e-07, 1.7288e-07, 6.7730e-07,\n",
            "        5.9125e-07, 4.4235e-07, 6.0707e-07, 1.8472e-07, 8.2659e-08, 9.2409e-07,\n",
            "        4.6792e-07, 3.4972e-05, 9.9546e-05, 4.5393e-06, 1.3768e-08, 1.5762e-06,\n",
            "        5.0674e-07, 3.4988e-08, 5.3897e-07, 1.7399e-06, 2.3351e-06, 1.5959e-06,\n",
            "        4.1946e-08, 2.0779e-07, 8.4711e-06, 6.4557e-07, 2.6782e-07, 1.9051e-07,\n",
            "        2.0012e-06, 1.6324e-07, 1.0822e-06, 6.5337e-06, 1.3561e-07, 2.2360e-07,\n",
            "        4.7360e-06, 1.0976e-07, 8.7181e-07, 1.9509e-07, 2.5715e-08, 1.0796e-07,\n",
            "        7.4701e-06, 8.9006e-06, 3.7580e-07, 1.5957e-07, 5.2289e-06, 1.0357e-06,\n",
            "        1.1012e-04, 5.2670e-05, 4.2434e-07, 2.1721e-07, 2.1461e-08, 8.4629e-09,\n",
            "        9.3323e-07, 3.7454e-06, 7.3124e-06, 3.7377e-06, 3.5295e-06, 1.1510e-07,\n",
            "        6.2278e-08, 9.5511e-08, 2.3855e-07, 8.9679e-07, 6.4344e-06, 4.3001e-06,\n",
            "        2.6086e-07, 6.8410e-08, 2.0529e-07, 9.9310e-07, 4.3038e-06, 6.4862e-07,\n",
            "        2.6209e-08, 7.8007e-07, 3.8681e-06, 2.8545e-05, 3.7998e-07, 1.7844e-06,\n",
            "        2.9170e-07, 3.4419e-07, 9.4268e-07, 1.5397e-07, 1.6388e-06, 9.3177e-08,\n",
            "        1.3482e-06, 4.7787e-07, 1.0065e-08, 1.9485e-06, 1.0830e-05, 4.2672e-06,\n",
            "        4.9004e-07, 1.1138e-06, 9.1308e-07, 9.2529e-07, 2.9936e-06, 3.0609e-08,\n",
            "        1.2123e-08, 1.9136e-06, 5.3054e-07, 1.1055e-06, 1.0666e-07, 4.6723e-06,\n",
            "        5.5198e-07, 2.6389e-08, 4.1260e-07, 6.4450e-06, 1.3940e-07, 1.3370e-07,\n",
            "        1.6536e-04, 2.6218e-06, 3.9410e-07, 1.7433e-07, 4.1548e-08, 2.9083e-07,\n",
            "        2.8496e-07, 3.0558e-07, 6.3085e-07, 2.6203e-08, 2.3568e-08, 6.0651e-07,\n",
            "        2.2991e-06, 4.2677e-07, 7.8954e-08, 5.0758e-06, 1.7481e-08, 6.8779e-05,\n",
            "        3.4250e-09, 2.2962e-07, 4.1847e-06, 1.0405e-06, 3.8209e-06, 2.4618e-06,\n",
            "        4.2841e-07, 6.1617e-09, 5.3948e-08, 3.5574e-07, 1.0572e-08, 9.2213e-08,\n",
            "        3.7167e-05, 6.3411e-07, 3.3903e-07, 3.7557e-07, 2.9412e-07, 4.8078e-06,\n",
            "        4.5712e-06, 1.1319e-06, 1.8600e-07, 4.7874e-07, 5.9186e-07, 9.0526e-07,\n",
            "        6.0906e-08, 2.6893e-08, 2.2913e-06, 9.9981e-07, 1.7304e-07, 5.0608e-07,\n",
            "        1.7231e-07, 4.5536e-07, 5.2732e-07, 4.9626e-06, 6.2295e-06, 2.1205e-06,\n",
            "        5.7065e-08, 1.1059e-06, 1.1969e-06, 8.7066e-07, 5.5699e-07, 1.7548e-06,\n",
            "        1.3940e-07, 2.3478e-08, 1.8630e-06, 9.3063e-07, 1.3520e-06, 1.9176e-06,\n",
            "        1.3583e-06, 7.8045e-07, 8.1695e-07, 2.0022e-07, 1.0841e-07, 1.4837e-07,\n",
            "        1.4647e-06, 5.0849e-08, 4.1064e-06, 1.2807e-06, 1.7657e-07, 9.2259e-08,\n",
            "        4.8354e-07, 2.5524e-06, 5.6300e-08, 4.5202e-08, 1.5991e-08, 2.8509e-07,\n",
            "        5.8679e-07, 2.1607e-07, 2.5374e-06, 2.8854e-07, 4.1311e-07, 1.9734e-07,\n",
            "        4.9488e-09, 2.0997e-06, 3.0799e-07, 1.6786e-06, 8.8315e-07, 3.2885e-07,\n",
            "        8.4783e-08, 9.9775e-08, 1.2368e-06, 3.3919e-05, 1.6036e-06, 3.8022e-07,\n",
            "        1.8996e-08, 1.6186e-07, 4.3947e-07, 3.1349e-06, 1.4959e-06, 3.8973e-06,\n",
            "        1.2536e-06, 3.0484e-06, 6.2363e-07, 5.8275e-07, 1.3441e-07, 2.4783e-07,\n",
            "        3.7679e-06, 2.0309e-06, 3.8502e-07, 2.1562e-07, 3.4836e-06, 1.5991e-06,\n",
            "        2.0279e-07, 2.4760e-07, 8.3103e-07, 3.0521e-07, 6.8899e-06, 1.3158e-07,\n",
            "        9.2565e-08, 1.2987e-07, 6.6899e-07, 2.8101e-07, 2.5624e-06, 4.6729e-05,\n",
            "        4.5822e-08, 1.6842e-06, 1.6064e-06, 2.8301e-05, 4.8026e-07, 1.5593e-07,\n",
            "        1.8008e-06, 3.3965e-07, 2.6141e-07, 8.9039e-09, 2.4790e-06, 1.7449e-07,\n",
            "        3.0641e-07, 8.6237e-07, 1.4638e-08, 4.3116e-07, 2.9507e-07, 9.4550e-07,\n",
            "        2.5855e-07, 1.3750e-06, 1.0229e-05, 3.5425e-07, 7.6847e-06, 9.0605e-07,\n",
            "        8.0180e-08, 6.1466e-08, 9.5401e-07, 5.3595e-07, 1.6593e-07, 6.5678e-07,\n",
            "        8.3473e-08, 1.5929e-06, 3.7230e-08, 6.2966e-08, 4.7281e-07, 2.4831e-07,\n",
            "        1.2934e-07, 1.0300e-07, 2.0521e-06, 7.8583e-07, 3.6362e-07, 3.7873e-06,\n",
            "        3.1835e-06, 3.0896e-07, 2.6604e-07, 2.1607e-06, 3.4649e-05, 5.0739e-07,\n",
            "        9.1085e-09, 2.6142e-06, 5.4483e-07, 5.4164e-08, 1.1281e-07, 9.1327e-07,\n",
            "        4.5163e-07, 4.3125e-07, 3.3360e-08, 7.4190e-08, 4.6817e-07, 1.2071e-07,\n",
            "        2.7034e-07, 3.4775e-08, 8.8644e-06, 1.0556e-06, 1.6237e-06, 2.9757e-06,\n",
            "        1.4359e-07, 1.3166e-06, 4.3485e-06, 2.2305e-05, 7.6890e-08, 8.5959e-07,\n",
            "        8.8747e-09, 3.6451e-07, 5.3267e-06, 1.5136e-07, 1.0537e-06, 6.6922e-05,\n",
            "        7.4395e-08, 4.8483e-05, 7.0330e-09, 6.5001e-07, 2.5980e-08, 3.2111e-07,\n",
            "        3.6964e-07, 1.8244e-08, 5.0944e-07, 1.5400e-07, 3.2367e-06, 1.6521e-08,\n",
            "        1.7035e-05, 2.6989e-07, 3.7399e-07, 6.4892e-06, 7.8334e-07, 1.4516e-05,\n",
            "        3.3903e-06, 3.9301e-05, 1.0771e-05, 3.1425e-06, 4.9378e-06, 8.1966e-08,\n",
            "        4.8106e-05, 3.5479e-07, 6.2126e-06, 3.1483e-07, 1.5537e-06, 2.0423e-05,\n",
            "        1.7494e-08, 9.5895e-06, 5.3306e-06, 2.9761e-06, 9.0725e-07, 2.2622e-08,\n",
            "        1.9300e-06, 6.1188e-07, 7.6441e-07, 2.8747e-07, 2.5639e-07, 4.8020e-08,\n",
            "        4.4060e-07, 7.7503e-07, 3.1007e-07, 7.0330e-07, 7.8625e-08, 9.6246e-08,\n",
            "        3.3385e-07, 2.7131e-07, 2.7978e-06, 1.0515e-06, 4.4754e-07, 4.9199e-07,\n",
            "        2.4201e-08, 2.1902e-06, 6.8253e-08, 5.6619e-08, 1.1454e-06, 1.9107e-06,\n",
            "        6.1120e-05, 1.5901e-06, 4.5963e-07, 2.4231e-07, 4.3907e-08, 4.5700e-06,\n",
            "        2.7126e-08, 6.5075e-07, 4.7211e-07, 9.4213e-08, 8.3144e-07, 1.0685e-06,\n",
            "        3.0157e-07, 1.4197e-05, 6.6102e-07, 3.0037e-07, 7.8212e-07, 5.7222e-08,\n",
            "        1.4809e-07, 8.5883e-06, 3.9222e-08, 9.5035e-07, 7.3887e-07, 4.1611e-07,\n",
            "        3.8055e-07, 6.5726e-06, 4.6336e-06, 1.2941e-07, 1.1257e-07, 4.0485e-07,\n",
            "        4.9622e-07, 1.8005e-05, 1.5965e-06, 2.2188e-06, 1.5157e-06, 1.9226e-06,\n",
            "        1.6532e-06, 2.0562e-08, 3.1499e-06, 8.5155e-07, 6.8987e-07, 2.0769e-05,\n",
            "        2.2714e-07, 2.0677e-06, 1.2234e-06, 2.9070e-06, 1.7912e-06, 6.7512e-07,\n",
            "        5.9087e-06, 5.4767e-07, 6.6580e-08, 7.0871e-08, 4.5414e-06, 2.8613e-06,\n",
            "        1.7365e-07, 1.4766e-06, 2.7467e-07, 1.1376e-06, 1.9202e-07, 2.6962e-06,\n",
            "        1.2406e-04, 1.5485e-07, 1.6923e-07, 1.2458e-06, 1.5717e-07, 7.8793e-09,\n",
            "        1.0798e-07, 4.2017e-08, 5.1216e-08, 6.5024e-07, 5.1440e-07, 4.5326e-07,\n",
            "        3.3495e-07, 9.3594e-09, 3.7403e-07, 1.4191e-06, 6.3541e-07, 5.5097e-07,\n",
            "        9.5613e-06, 2.3034e-06, 1.3032e-07, 1.5851e-08, 3.9380e-09, 4.4827e-07,\n",
            "        9.3789e-06, 1.0875e-07, 1.1909e-07, 1.9340e-05, 4.6175e-06, 6.1345e-07,\n",
            "        2.2519e-05, 2.7271e-07, 2.4799e-08, 7.8122e-08, 3.7809e-07, 2.0109e-09,\n",
            "        8.2828e-08, 4.2335e-07, 2.0325e-08, 9.9324e-08, 2.5617e-07, 2.9431e-07,\n",
            "        7.6842e-08, 1.3858e-06, 2.5660e-06, 3.0705e-06, 2.7318e-05, 1.9467e-06,\n",
            "        1.8253e-08, 3.0549e-07, 1.4173e-06, 3.2821e-07, 5.1450e-06, 4.5799e-07,\n",
            "        4.1337e-07, 2.8971e-06, 1.1367e-06, 9.5384e-07, 9.9671e-07, 9.7991e-07,\n",
            "        1.5353e-05, 6.7838e-07, 1.3548e-07, 9.7582e-08, 4.3272e-07, 3.1815e-09,\n",
            "        1.8463e-07, 3.5902e-07, 2.8727e-07, 5.1395e-08, 2.3341e-08, 4.0379e-07,\n",
            "        7.7843e-08, 2.6144e-08, 2.3666e-09, 3.1901e-07, 1.5370e-07, 2.7065e-05,\n",
            "        2.4361e-06, 2.3417e-07, 4.4093e-06, 1.0163e-08, 3.7309e-07, 1.9445e-06,\n",
            "        3.7269e-06, 2.0246e-06, 2.7814e-07, 1.1297e-06, 1.6989e-06, 4.5535e-08,\n",
            "        8.3805e-07, 6.1256e-07, 5.3640e-08, 1.6760e-08, 4.4251e-08, 8.8049e-08,\n",
            "        6.5732e-06, 2.4231e-06, 3.4349e-07, 2.9437e-07, 1.9981e-08, 3.2105e-07,\n",
            "        1.2023e-07, 3.4457e-07, 1.3067e-07, 6.8178e-07, 9.5956e-06, 1.7218e-07,\n",
            "        2.9186e-07, 9.8740e-07, 1.2197e-07, 5.1106e-08, 9.7978e-09, 6.3165e-08,\n",
            "        1.4853e-06, 3.6861e-09, 6.7289e-07, 2.1981e-06, 1.5383e-06, 3.7863e-06,\n",
            "        8.7544e-07, 8.8763e-09, 2.3494e-07, 9.1230e-06, 8.1575e-08, 2.9458e-06,\n",
            "        3.5886e-07, 1.2731e-07, 7.2442e-07, 4.9291e-07, 4.0807e-07, 3.9548e-08,\n",
            "        3.8268e-07, 2.9060e-07, 2.1999e-07, 3.5320e-06, 3.7342e-07, 3.1346e-08,\n",
            "        9.6834e-07, 8.3035e-08, 2.9030e-07, 5.2149e-10, 7.5826e-09, 3.6560e-08,\n",
            "        1.1612e-07, 2.2320e-08, 2.5588e-06, 1.3546e-05])\n"
          ],
          "name": "stdout"
        }
      ]
    },
    {
      "cell_type": "code",
      "metadata": {
        "id": "tSZSWnCI0ijK"
      },
      "source": [
        ""
      ],
      "execution_count": null,
      "outputs": []
    },
    {
      "cell_type": "markdown",
      "metadata": {
        "id": "1j85KAgH0oXK"
      },
      "source": [
        "The MobileNet v2 architecture is based on an inverted residual structure where the input and output of the residual block are thin bottleneck layers opposite to traditional residual models which use expanded representations in the input. MobileNet v2 uses lightweight depthwise convolutions to filter features in the intermediate expansion layer. Additionally, non-linearities in the narrow layers were removed in order to maintain representational power."
      ]
    },
    {
      "cell_type": "code",
      "metadata": {
        "id": "rHEehG7l0pUC"
      },
      "source": [
        ""
      ],
      "execution_count": null,
      "outputs": []
    }
  ]
}